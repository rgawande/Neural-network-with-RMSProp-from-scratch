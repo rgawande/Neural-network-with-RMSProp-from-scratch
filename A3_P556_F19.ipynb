{
  "nbformat": 4,
  "nbformat_minor": 0,
  "metadata": {
    "colab": {
      "name": "code.ipynb",
      "provenance": [],
      "collapsed_sections": []
    },
    "kernelspec": {
      "name": "python3",
      "display_name": "Python 3"
    },
    "accelerator": "TPU"
  },
  "cells": [
    {
      "cell_type": "markdown",
      "metadata": {
        "id": "tg9fRSjFtsRu",
        "colab_type": "text"
      },
      "source": [
        "# Assignment #3\n",
        "## P556: Applied Machine Learning"
      ]
    },
    {
      "cell_type": "markdown",
      "metadata": {
        "id": "jjsZpx5C9eBH",
        "colab_type": "text"
      },
      "source": [
        "More often than not, we will use a deep learning library (Tensorflow, Pytorch, or the wrapper known as Keras) to implement our models. However, the abstraction afforded by those libraries can make it hard to troubleshoot issues if we don't understand what is going on under the hood. In this assignment you will implement a fully-connected and a convolutional neural network from scratch. To simplify the implementation, we are asking you to implement static architectures, but you are free to support variable number of layers/neurons/activations/optimizers/etc. We recommend that you make use of private methods so you can easily troubleshoot small parts of your model as you develop them, instead of trying to figure out which parts are not working correctly after implementing everything. Also, keep in mind that there is code from your fully-connected neural network that can be re-used on the CNN. "
      ]
    },
    {
      "cell_type": "markdown",
      "metadata": {
        "id": "2NzW9M-btzqO",
        "colab_type": "text"
      },
      "source": [
        "Problem #1.1 (40 points): Implement a fully-connected neural network from scratch. The neural network will have the following architecture:\n",
        "\n",
        "- Input layer\n",
        "- Dense hidden layer with 512 neurons, using relu as the activation function\n",
        "- Dropout with a value of 0.2\n",
        "- Dense hidden layer with 512 neurons, using relu as the activation function\n",
        "- Dropout with a value of 0.2\n",
        "- Output layer, using softmax as the activation function\n",
        "\n",
        "The model will use categorical crossentropy as its loss function. \n",
        "We will optimize the gradient descent using RMSProp, with a learning rate of 0.001 and a rho value of 0.9.\n",
        "We will evaluate the model using accuracy.\n",
        "\n",
        "Why this architecture? We are trying to reproduce from scratch the following [example from the Keras documentation](https://keras.io/examples/mnist_mlp/). This means that you can compare your results by running the Keras code provided above to see if you are on the right track."
      ]
    },
    {
      "cell_type": "code",
      "metadata": {
        "id": "8rPUmRqBtpS2",
        "colab_type": "code",
        "colab": {}
      },
      "source": [
        "class NeuralNetwork():\n",
        "    def __init__(self, epochs, learning_rate):\n",
        "        self.epochs = epochs\n",
        "        self.learning_rate = learning_rate\n",
        "        \n",
        "    def fit(self,X,y):        \n",
        "        def relu(X):\n",
        "            return np.maximum(0,X)\n",
        "        def relu_derivative(X):\n",
        "            if(X.all()>0):\n",
        "                return 1\n",
        "            else:\n",
        "                return 0\n",
        "#The dropout concept and python insight has been referred from https://gluon.mxnet.io/chapter03_deep-neural-networks/mlp-dropout-scratch.html\"\n",
        "        def dropout(x,drop):\n",
        "            p = 1 - drop\n",
        "            mask = np.random.uniform(0, 1.0, x.shape) < p\n",
        "            if p > 0.0:\n",
        "                scale = (1/p)\n",
        "            else:\n",
        "                scale = 0.0\n",
        "            return mask * x * scale\n",
        "#The softmax concept and entropy loss details has been referred from https://deepnotes.io/softmax-crossentropy\"\n",
        "        def softmax(X):\n",
        "            exponent = np.exp(X)\n",
        "            return exponent / np.sum(exponent, axis=1, keepdims=True)\n",
        "        def crossentropy_loss(y,y_pred):\n",
        "            m = y.shape[0]\n",
        "            loss = -1/m * np.sum(y * np.log(y_pred))\n",
        "            return loss\n",
        "        def loss_derivative(y1,y2):\n",
        "            return (y2-y1)\n",
        "#While trying different weight initializations, finally came up with Xavier initialization whose concept referred from https://towardsdatascience.com/weight-initialization-in-neural-networks-a-journey-from-the-basics-to-kaiming-954fb9b47c79       \n",
        "        def initialize_weight():\n",
        "            np.random.seed(0)\n",
        "            w1 = np.random.randn(784, 512)*np.sqrt(2/784)\n",
        "            b1 = np.zeros((1,512))\n",
        "            w2 = np.random.randn(512, 512)*np.sqrt(2/512)\n",
        "            b2 = np.zeros((1, 512))\n",
        "            w3 = np.random.randn(512,10)*np.sqrt(2/512)\n",
        "            b3 = np.zeros((1, 10))\n",
        "            return w1,w2,w3,b1,b2,b3\n",
        "        \n",
        "        w1,w2,w3,b1,b2,b3 = initialize_weight()\n",
        "        grad_w1=grad_w2=grad_w3=grad_b1=grad_b2=grad_b3 = 0\n",
        "\n",
        "#The mini batch approach has been referred from  https://ml-cheatsheet.readthedocs.io/en/latest/optimizers.html#sgd        \n",
        "        for i in range(self.epochs):\n",
        "            x_batch = X\n",
        "            y_batch = y\n",
        "            step_size = 10000\n",
        "            for j in range (6):\n",
        "                x_train=x_batch[j:j+step_size]\n",
        "                y_train=y_batch[j:j+step_size]\n",
        "           \n",
        "#The vectorized approach below has been referred from #https://www.kaggle.com/daphnecor/week-1-3-layer-nn\n",
        "#https://gluon.mxnet.io/chapter03_deep-neural-networks/mlp-dropout-scratch.html#Define-the-model\n",
        "                h1 = x_train.dot(w1) + b1\n",
        "                z1 = relu(h1)\n",
        "                z1 = dropout(z1,0.2)\n",
        "                h2 = z1.dot(w2) + b2\n",
        "                z2 = relu(h2)\n",
        "                z2 = dropout(z2,0.2)\n",
        "                h3 = z2.dot(w3) + b3\n",
        "                z3 = softmax(h3)\n",
        "\n",
        "#Scaling of the gradients is done by dividing it by the number of datapoints\n",
        "                n = y_train.shape[0]\n",
        "                g3 = loss_derivative(y_train,z3)\n",
        "                dw3 = 1/n*(z2.T).dot(g3) \n",
        "                db3 = 1/n*np.sum(g3, axis=0)\n",
        "\n",
        "                g2 = np.multiply(g3.dot(w3.T),relu_derivative(z2))\n",
        "                dw2 = 1/n*np.dot(z1.T, g2)\n",
        "                db2 = 1/n*np.sum(g2, axis=0)\n",
        "\n",
        "                g1 = np.multiply(g2.dot(w2.T),relu_derivative(z1))\n",
        "                dw1 = 1/n*np.dot(x_train.T,g1)\n",
        "                db1 = 1/n*np.sum(g1,axis=0) \n",
        "\n",
        "#The rmsprop concept and approach has been referred from https://towardsdatascience.com/understanding-rmsprop-faster-neural-network-learning-62e116fcf29a               \n",
        "                rho = 0.9\n",
        "                grad_w1 = rho * grad_w1 + 0.1 * dw1 * dw1\n",
        "                grad_w2 = rho * grad_w2 + 0.1 * dw2 * dw2\n",
        "                grad_w3 = rho * grad_w3 + 0.1 * dw3 * dw3\n",
        "                grad_b1 = rho * grad_b1 + 0.1 * db1 * db1\n",
        "                grad_b2 = rho * grad_b2 + 0.1 * db2 * db2\n",
        "                grad_b3 = rho * grad_b3 + 0.1 * db3 * db3\n",
        "                \n",
        "                #clip has been used to avoid the divide by zero error\n",
        "                w1 = w1 - (self.learning_rate / np.sqrt(grad_w1.clip(min = 0.00000001))) * dw1\n",
        "                b1 = b1 - (self.learning_rate / np.sqrt(grad_b1.clip(min = 0.00000001))) * db1\n",
        "                w2 = w2 - (self.learning_rate / np.sqrt(grad_w2.clip(min = 0.00000001))) * dw2\n",
        "                b2 = b2 - (self.learning_rate / np.sqrt(grad_b2.clip(min = 0.00000001))) * db2\n",
        "                w3 = w3 - (self.learning_rate / np.sqrt(grad_w3.clip(min = 0.00000001))) * dw3\n",
        "                b3 = b3 - (self.learning_rate / np.sqrt(grad_b3.clip(min = 0.00000001))) * db3\n",
        "\n",
        "                y_dash = np.argmax(y_train,axis=1)\n",
        "                y_pred = np.argmax(z3,axis=1)\n",
        "                scores = []\n",
        "                acc = []\n",
        "                from sklearn.metrics import accuracy_score\n",
        "                scores.append(accuracy_score(y_dash, y_pred, normalize=True)*100)\n",
        "            acc.append(np.mean(scores))\n",
        "        print(\"The training accuracy is: \",max(acc))\n",
        "        return w1,w2,w3,b1,b2,b3\n",
        "        \n",
        "    def evaluate(self,x_test,y_test,W1,W2,W3,B1,B2,B3):        \n",
        "        def relu(X):\n",
        "            return np.maximum(0,X)\n",
        "        def softmax(X):\n",
        "            exponent = np.exp(X)\n",
        "            return exponent / np.sum(exponent, axis=1, keepdims=True)\n",
        "        h1 = x_test.dot(W1) + B1  \n",
        "        z1 = relu(h1)\n",
        "        h2 = z1.dot(W2) + B2\n",
        "        z2 = relu(h2)\n",
        "        h3 = z2.dot(W3) + B3\n",
        "        z3 = softmax(h3)\n",
        "        y_dash = np.argmax(y_test,axis=1)\n",
        "        y_pred = np.argmax(z3,axis=1)\n",
        "        from sklearn.metrics import accuracy_score\n",
        "        return accuracy_score(y_dash, y_pred, normalize=True)*100"
      ],
      "execution_count": 0,
      "outputs": []
    },
    {
      "cell_type": "markdown",
      "metadata": {
        "id": "DH3bgJyPuE2O",
        "colab_type": "text"
      },
      "source": [
        "Problem #1.2 (10 points): Train your fully-connected neural network on the Fashion-MNIST dataset using 5-fold cross validation. Report accuracy on the folds, as well as on the test set."
      ]
    },
    {
      "cell_type": "code",
      "metadata": {
        "id": "XsN4sUoUugl8",
        "colab_type": "code",
        "colab": {
          "base_uri": "https://localhost:8080/",
          "height": 243
        },
        "outputId": "0f2d7c56-1699-4f44-8e2b-f6159c3ce8ac"
      },
      "source": [
        "# To simplify the usage of our dataset, we will be importing it from the Keras \n",
        "# library. Keras can be installed using pip: python -m pip install keras\n",
        "\n",
        "# Original source for the dataset:\n",
        "# https://github.com/zalandoresearch/fashion-mnist\n",
        "\n",
        "# Reference to the Fashion-MNIST's Keras function: \n",
        "# https://keras.io/datasets/#fashion-mnist-database-of-fashion-articles\n",
        "\n",
        "import keras\n",
        "import numpy as np\n",
        "from keras.datasets import fashion_mnist\n",
        "\n",
        "# the data, split between train and test sets\n",
        "(x_train, y_train), (x_test, y_test) = fashion_mnist.load_data()\n",
        "\n",
        "x_train = x_train.reshape(60000, 784)\n",
        "x_test = x_test.reshape(10000, 784)\n",
        "x_train = x_train.astype('float32')\n",
        "x_test = x_test.astype('float32')\n",
        "x_train /= 255\n",
        "x_test /= 255\n",
        "print(x_train.shape[0], 'train samples')\n",
        "print(x_test.shape[0], 'test samples')\n",
        "\n",
        "# convert class vectors to binary class matrices\n",
        "num_classes = 10\n",
        "y_train = keras.utils.to_categorical(y_train, num_classes)\n",
        "y_test = keras.utils.to_categorical(y_test, num_classes)\n",
        "NN = NeuralNetwork(20,0.001)\n",
        "#NN.evaluate(x_test,y_test,w1,w2,w3,b1,b2,b3)\n",
        "\n",
        "d={}\n",
        "d['w1'],d['w2'],d['w3'],d['b1'],d['b2'],d['b3'],d['acc']=[],[],[],[],[],[],[]\n",
        "\n",
        "#The crossvalidation concepts and extracting index refererred from https://machinelearningmastery.com/k-fold-cross-validation/\n",
        "#https://medium.com/@salsabilabasalamah/cross-validation-of-an-artificial-neural-network-f72a879ea6d5\n",
        "from sklearn.model_selection import KFold\n",
        "from sklearn.metrics import accuracy_score\n",
        "rg=KFold(5)\n",
        "for index_tr,index_te in rg.split(x_train):\n",
        "  x_train1=x_train[index_tr]\n",
        "  y_train1=y_train[index_tr]\n",
        "  w1,w2,w3,b1,b2,b3 = NN.fit(x_train1,y_train1)\n",
        "#The dictionary stores all the weights, bias and accuracy for each validation iteration\n",
        "  d['w1'].append(w1)\n",
        "  d['w2'].append(w2)\n",
        "  d['w3'].append(w3)\n",
        "  d['b1'].append(b1)\n",
        "  d['b2'].append(b2)\n",
        "  d['b3'].append(b3)\n",
        "  x_test1=x_train[index_te]\n",
        "  y_test1=y_train[index_te]\n",
        "  d['acc'].append(NN.evaluate(x_test1,y_test1,w1,w2,w3,b1,b2,b3))\n",
        "  print('Validation accuracy:',d['acc'][-1])\n",
        "\n",
        "#The weights and biases with maximum accuracy are passed to evaluate final accuracy on test data  \n",
        "test_acc = NN.evaluate(x_test,y_test,d['w1'][d['acc'].index(max(d['acc']))],d['w2'][d['acc'].index(max(d['acc']))],d['w3'][d['acc'].index(max(d['acc']))],d['b1'][d['acc'].index(max(d['acc']))],d['b2'][d['acc'].index(max(d['acc']))],d['b3'][d['acc'].index(max(d['acc']))])\n",
        "print(\"The testing accuracy is: \",test_acc)"
      ],
      "execution_count": 3,
      "outputs": [
        {
          "output_type": "stream",
          "text": [
            "60000 train samples\n",
            "10000 test samples\n",
            "The training accuracy is:  72.39\n",
            "Validation accuracy: 76.75\n",
            "The training accuracy is:  72.37\n",
            "Validation accuracy: 75.35833333333333\n",
            "The training accuracy is:  72.37\n",
            "Validation accuracy: 76.23333333333333\n",
            "The training accuracy is:  72.37\n",
            "Validation accuracy: 76.325\n",
            "The training accuracy is:  72.37\n",
            "Validation accuracy: 76.06666666666668\n",
            "The testing accuracy is:  75.01\n"
          ],
          "name": "stdout"
        }
      ]
    },
    {
      "cell_type": "markdown",
      "metadata": {
        "id": "NsYWLhVUt_In",
        "colab_type": "text"
      },
      "source": [
        "Problem #2.1 (40 points): Implement a Convolutional Neural Network from scratch. Similarly to problem 1.1, we will be implementing the same architecture as the one shown in [Keras' CNN documentation](https://keras.io/examples/mnist_cnn/). That is:\n",
        "\n",
        "- Input layer\n",
        "- Convolutional hidden layer with 32 neurons, a kernel size of (3,3), and relu activation function\n",
        "- Convolutional hidden layer with 64 neurons, a kernel size of (3,3), and relu activation function\n",
        "- Maxpooling with a pool size of (2,2)\n",
        "- Dropout with a value of 0.25\n",
        "- Flatten layer\n",
        "- Dense hidden layer, with 128 neurons, and relu activation function\n",
        "- Dropout with a value of 0.5\n",
        "- Output layer, using softmax as the activation function\n",
        "\n",
        "Our loss function is categorical crossentropy and the evaluation will be done using accuracy, as in Problem 1.1. However, we will not be using the gradient optimizer known as Adadelta."
      ]
    },
    {
      "cell_type": "code",
      "metadata": {
        "id": "wEGyV8qTvX7H",
        "colab_type": "code",
        "colab": {}
      },
      "source": [
        "class ConvolutionalNeuralNetwork(object):\n",
        "  def __init__(epochs, learning_rate):\n",
        "    pass\n",
        "  \n",
        "  def fit(self):\n",
        "    pass\n",
        "  \n",
        "  def evaluate(self):\n",
        "    pass"
      ],
      "execution_count": 0,
      "outputs": []
    },
    {
      "cell_type": "markdown",
      "metadata": {
        "id": "nmek2iUovYEk",
        "colab_type": "text"
      },
      "source": [
        "Problem #2.2 (10 points): Train your convolutional neural network on the Fashion-MNIST dataset using 5-fold cross validation. Report accuracy on the folds, as well as on the test set."
      ]
    },
    {
      "cell_type": "code",
      "metadata": {
        "id": "B6VsoxNSwFVH",
        "colab_type": "code",
        "colab": {}
      },
      "source": [
        "import keras\n",
        "from keras.datasets import fashion_mnist\n",
        "\n",
        "# the data, split between train and test sets\n",
        "(x_train, y_train), (x_test, y_test) = fashion_mnist.load_data()\n",
        "\n",
        "x_train = x_train.reshape(60000, 784)\n",
        "x_test = x_test.reshape(10000, 784)\n",
        "x_train = x_train.astype('float32')\n",
        "x_test = x_test.astype('float32')\n",
        "x_train /= 255\n",
        "x_test /= 255\n",
        "print(x_train.shape[0], 'train samples')\n",
        "print(x_test.shape[0], 'test samples')\n",
        "\n",
        "# convert class vectors to binary class matrices\n",
        "num_classes = 10\n",
        "y_train = keras.utils.to_categorical(y_train, num_classes)\n",
        "y_test = keras.utils.to_categorical(y_test, num_classes)"
      ],
      "execution_count": 0,
      "outputs": []
    }
  ]
}
